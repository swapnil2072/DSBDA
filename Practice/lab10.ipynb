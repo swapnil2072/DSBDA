{
 "cells": [
  {
   "cell_type": "code",
   "execution_count": null,
   "id": "7c049ea5-a41c-459f-abc9-01d840e7e5bd",
   "metadata": {},
   "outputs": [],
   "source": [
    "import pandas as pd\n",
    "import numpy as np \n",
    "import seaborn as sns \n",
    "import matplotlib.pyplot as plt \n",
    "import warnings\n",
    "warnings.filterwarnings('ignore')\n",
    "data = sns.load_dataset('iris')\n",
    "data\n",
    "sns.boxplot(data['sepal_length'])\n",
    "sns.boxplot(data['sepal_width'])\n",
    "sns.boxplot(data['petal_length'])\n",
    "sns.boxplot(data['petal_width'])\n",
    "fig,axes = plt.subplots(2,2,figsize=(16,10))\n",
    "sns.histplot(data[\"sepal_length\"],ax=axes[0,0],kde=True)\n",
    "sns.histplot(data[\"sepal_width\"],ax=axes[0,1],kde=True)\n",
    "sns.histplot(data[\"petal_length\"],ax=axes[1,0],kde=True)\n",
    "sns.histplot(data[\"petal_width\"],ax=axes[1,1],kde=True)"
   ]
  }
 ],
 "metadata": {
  "kernelspec": {
   "display_name": "Python 3 (ipykernel)",
   "language": "python",
   "name": "python3"
  },
  "language_info": {
   "codemirror_mode": {
    "name": "ipython",
    "version": 3
   },
   "file_extension": ".py",
   "mimetype": "text/x-python",
   "name": "python",
   "nbconvert_exporter": "python",
   "pygments_lexer": "ipython3",
   "version": "3.11.7"
  }
 },
 "nbformat": 4,
 "nbformat_minor": 5
}
